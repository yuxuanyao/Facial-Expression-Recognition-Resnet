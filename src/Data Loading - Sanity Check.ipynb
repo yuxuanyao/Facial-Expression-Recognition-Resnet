{
 "cells": [
  {
   "cell_type": "markdown",
   "metadata": {},
   "source": [
    "#### Checks that the data loaded is valid"
   ]
  },
  {
   "cell_type": "code",
   "execution_count": 1,
   "metadata": {},
   "outputs": [
    {
     "name": "stdout",
     "output_type": "stream",
     "text": [
      "GeForce RTX 2060\n"
     ]
    }
   ],
   "source": [
    "import torch\n",
    "import torch.nn as nn\n",
    "import torch.nn.functional as F\n",
    "import torchvision\n",
    "import torchvision.models as models\n",
    "import os\n",
    "import numpy as np\n",
    "import pandas as pd\n",
    "from PIL import Image\n",
    "import matplotlib.pyplot as plt\n",
    "\n",
    "'''Set parameters'''\n",
    "torch.manual_seed(1) # set the random seed\n",
    "use_cuda = True # Use cuda\n",
    "batch_size = 128\n",
    "num_workers = 0\n",
    "\n",
    "# Training and validation dataset\n",
    "# Options: train, validate, test, overfit\n",
    "train_folder = 'train'\n",
    "validate_folder = 'validate'\n",
    "\n",
    "'''Check GPU'''\n",
    "print(torch.cuda.get_device_name(torch.cuda.current_device()))"
   ]
  },
  {
   "cell_type": "markdown",
   "metadata": {},
   "source": [
    "#### Visualize some values of images and make sure that values are bounded correctly"
   ]
  },
  {
   "cell_type": "code",
   "execution_count": 2,
   "metadata": {},
   "outputs": [
    {
     "name": "stdout",
     "output_type": "stream",
     "text": [
      "torch.Size([1, 3, 48, 48])\n",
      "tensor(0.9961, dtype=torch.float64)\n",
      "tensor(0.2706, dtype=torch.float64)\n",
      "torch.Size([1, 3, 48, 48])\n",
      "tensor(0.9725, dtype=torch.float64)\n",
      "tensor(0., dtype=torch.float64)\n",
      "torch.Size([1, 3, 48, 48])\n",
      "tensor(0.7804, dtype=torch.float64)\n",
      "tensor(0.1176, dtype=torch.float64)\n",
      "torch.Size([1, 3, 48, 48])\n",
      "tensor(0.9390, dtype=torch.float64)\n",
      "tensor(0., dtype=torch.float64)\n",
      "torch.Size([1, 3, 48, 48])\n",
      "tensor(0.7882, dtype=torch.float64)\n",
      "tensor(0.0431, dtype=torch.float64)\n",
      "torch.Size([1, 3, 48, 48])\n",
      "tensor(0.8471, dtype=torch.float64)\n",
      "tensor(0.0039, dtype=torch.float64)\n",
      "torch.Size([1, 3, 48, 48])\n",
      "tensor(1., dtype=torch.float64)\n",
      "tensor(0.0353, dtype=torch.float64)\n",
      "torch.Size([1, 3, 48, 48])\n",
      "tensor(0.9938, dtype=torch.float64)\n",
      "tensor(0., dtype=torch.float64)\n",
      "torch.Size([1, 3, 48, 48])\n",
      "tensor(1., dtype=torch.float64)\n",
      "tensor(0.0039, dtype=torch.float64)\n",
      "torch.Size([1, 3, 48, 48])\n",
      "tensor(1., dtype=torch.float64)\n",
      "tensor(0., dtype=torch.float64)\n"
     ]
    },
    {
     "data": {
      "image/png": "[encoded data removed]",
      "text/plain": [
       "<Figure size 432x288 with 10 Axes>"
      ]
     },
     "metadata": {
      "needs_background": "light"
     },
     "output_type": "display_data"
    }
   ],
   "source": [
    "#load tensors\n",
    "master_path = '../ProcessedData/cutoff10000/'\n",
    "dataset = torchvision.datasets.DatasetFolder(master_path + train_folder, loader=torch.load, extensions=('.tensor'))\n",
    "\n",
    "# Prepare Dataloader\n",
    "train_loader = torch.utils.data.DataLoader(dataset, batch_size=1, num_workers=num_workers, shuffle=True)\n",
    "\n",
    "# Verification Step - obtain one batch of imgs\n",
    "dataiter = iter(train_loader)\n",
    "\n",
    "# Visualize 5 images\n",
    "fig = plt.figure()\n",
    "for i in range(10):\n",
    "    imgs, labels = dataiter.next()\n",
    "    print(imgs.shape)\n",
    "    # Iterate through images of a batch and visualize\n",
    "    for img in imgs:\n",
    "        img_np = np.asarray((img.transpose(0,1)).transpose(1,2))\n",
    "        plt.subplot(1, 10, i+1)    \n",
    "        plt.imshow(img_np)\n",
    "        plt.axis('off')\n",
    "        \n",
    "        # Check that tensor values are between 0 and 1\n",
    "        print(torch.max(img))    \n",
    "        print(torch.min(img))"
   ]
  },
  {
   "cell_type": "markdown",
   "metadata": {},
   "source": [
    "#### Load images from train and validation sets"
   ]
  },
  {
   "cell_type": "code",
   "execution_count": 3,
   "metadata": {},
   "outputs": [],
   "source": [
    "train_dataset = torchvision.datasets.DatasetFolder(master_path + train_folder, loader=torch.load, extensions=('.tensor'))\n",
    "train_loader = torch.utils.data.DataLoader(train_dataset, batch_size=batch_size, num_workers=num_workers, shuffle=True)\n",
    "\n",
    "val_dataset = torchvision.datasets.DatasetFolder(master_path + validate_folder, loader=torch.load, extensions=('.tensor'))\n",
    "val_loader = torch.utils.data.DataLoader(val_dataset, batch_size=batch_size, num_workers=num_workers, shuffle=True)"
   ]
  },
  {
   "cell_type": "markdown",
   "metadata": {},
   "source": [
    "#### Check an example to see values are valid"
   ]
  },
  {
   "cell_type": "code",
   "execution_count": 4,
   "metadata": {},
   "outputs": [
    {
     "name": "stdout",
     "output_type": "stream",
     "text": [
      "torch.Size([128, 3, 48, 48])\n",
      "torch.Size([128])\n",
      "torch.Size([128, 3, 48, 48])\n",
      "torch.Size([128])\n",
      "tensor([[[0.1608, 0.1333, 0.1451,  ..., 0.8510, 0.8471, 0.8510],\n",
      "         [0.1647, 0.1373, 0.0824,  ..., 0.8510, 0.8510, 0.8510],\n",
      "         [0.0667, 0.1059, 0.1686,  ..., 0.8549, 0.8549, 0.8549],\n",
      "         ...,\n",
      "         [0.8353, 0.8353, 0.8353,  ..., 0.8314, 0.8353, 0.8275],\n",
      "         [0.8314, 0.8353, 0.8353,  ..., 0.8039, 0.8275, 0.8510],\n",
      "         [0.8314, 0.8314, 0.8314,  ..., 0.6275, 0.8431, 0.8078]],\n",
      "\n",
      "        [[0.1608, 0.1333, 0.1451,  ..., 0.8510, 0.8471, 0.8510],\n",
      "         [0.1647, 0.1373, 0.0824,  ..., 0.8510, 0.8510, 0.8510],\n",
      "         [0.0667, 0.1059, 0.1686,  ..., 0.8549, 0.8549, 0.8549],\n",
      "         ...,\n",
      "         [0.8353, 0.8353, 0.8353,  ..., 0.8314, 0.8353, 0.8275],\n",
      "         [0.8314, 0.8353, 0.8353,  ..., 0.8039, 0.8275, 0.8510],\n",
      "         [0.8314, 0.8314, 0.8314,  ..., 0.6275, 0.8431, 0.8078]],\n",
      "\n",
      "        [[0.1608, 0.1333, 0.1451,  ..., 0.8510, 0.8471, 0.8510],\n",
      "         [0.1647, 0.1373, 0.0824,  ..., 0.8510, 0.8510, 0.8510],\n",
      "         [0.0667, 0.1059, 0.1686,  ..., 0.8549, 0.8549, 0.8549],\n",
      "         ...,\n",
      "         [0.8353, 0.8353, 0.8353,  ..., 0.8314, 0.8353, 0.8275],\n",
      "         [0.8314, 0.8353, 0.8353,  ..., 0.8039, 0.8275, 0.8510],\n",
      "         [0.8314, 0.8314, 0.8314,  ..., 0.6275, 0.8431, 0.8078]]],\n",
      "       dtype=torch.float64)\n"
     ]
    }
   ],
   "source": [
    "# Check training\n",
    "dataiter = iter(train_loader)\n",
    "features, labels = dataiter.next()\n",
    "print(features.shape)\n",
    "print(labels.shape)\n",
    "# print(features[0])\n",
    "\n",
    "# Check validation\n",
    "dataiter = iter(val_loader)\n",
    "features, labels = dataiter.next()\n",
    "print(features.shape)\n",
    "print(labels.shape)\n",
    "print(features[0])"
   ]
  },
  {
   "cell_type": "code",
   "execution_count": null,
   "metadata": {},
   "outputs": [],
   "source": []
  }
 ],
 "metadata": {
  "kernelspec": {
   "display_name": "Python 3",
   "language": "python",
   "name": "python3"
  },
  "language_info": {
   "codemirror_mode": {
    "name": "ipython",
    "version": 3
   },
   "file_extension": ".py",
   "mimetype": "text/x-python",
   "name": "python",
   "nbconvert_exporter": "python",
   "pygments_lexer": "ipython3",
   "version": "3.8.6"
  }
 },
 "nbformat": 4,
 "nbformat_minor": 4
}
