{
 "cells": [
  {
   "cell_type": "code",
   "execution_count": 1,
   "metadata": {},
   "outputs": [
    {
     "name": "stdout",
     "output_type": "stream",
     "text": [
      "GeForce RTX 2060\n"
     ]
    }
   ],
   "source": [
    "import torch\n",
    "import torch.nn as nn\n",
    "import torch.nn.functional as F\n",
    "import torchvision\n",
    "import torchvision.models as models\n",
    "import os\n",
    "import numpy as np\n",
    "import pandas as pd\n",
    "import cv2\n",
    "from PIL import Image\n",
    "import matplotlib.pyplot as plt\n",
    "\n",
    "import train\n",
    "import util\n",
    "import preprocess as p\n",
    "\n",
    "'''Set parameters'''\n",
    "torch.manual_seed(1) # set the random seed\n",
    "use_cuda = True # Use cuda\n",
    "batch_size = 128\n",
    "num_workers = 0\n",
    "\n",
    "'''Check GPU'''\n",
    "print(torch.cuda.get_device_name(torch.cuda.current_device()))"
   ]
  },
  {
   "cell_type": "markdown",
   "metadata": {},
   "source": [
    "#### Preprocess and save CK data"
   ]
  },
  {
   "cell_type": "code",
   "execution_count": 2,
   "metadata": {},
   "outputs": [
    {
     "name": "stdout",
     "output_type": "stream",
     "text": [
      "Finished saving to ../ProcessedData/CK/\n",
      "[75, 0, 75, 75, 75, 75, 0]\n"
     ]
    }
   ],
   "source": [
    "ck_df = p.get_CK_df()\n",
    "ck_count = [0, 0, 0, 0, 0, 0, 0]\n",
    "p.save_ck_as_tensors(ck_df, '../ProcessedData/CK/', ck_count, cutoff=75)"
   ]
  },
  {
   "cell_type": "markdown",
   "metadata": {},
   "source": [
    "#### Load CK data"
   ]
  },
  {
   "cell_type": "code",
   "execution_count": 3,
   "metadata": {},
   "outputs": [
    {
     "data": {
      "text/plain": [
       "Dataset DatasetFolder\n",
       "    Number of datapoints: 750\n",
       "    Root location: ../ProcessedData/CK"
      ]
     },
     "execution_count": 3,
     "metadata": {},
     "output_type": "execute_result"
    }
   ],
   "source": [
    "#load tensors\n",
    "ck_path = '../ProcessedData/CK'\n",
    "ck_dataset = torchvision.datasets.DatasetFolder(ck_path, loader=torch.load, extensions=('.tensor'))\n",
    "ck_loader = torch.utils.data.DataLoader(ck_dataset, batch_size=batch_size, num_workers=num_workers, shuffle=True)\n",
    "\n",
    "ck_dataset"
   ]
  },
  {
   "cell_type": "markdown",
   "metadata": {},
   "source": [
    "#### Load other test data"
   ]
  },
  {
   "cell_type": "code",
   "execution_count": 4,
   "metadata": {},
   "outputs": [],
   "source": [
    "#load tensors\n",
    "fer_test_path = '../ProcessedData/Testing/FER_test'\n",
    "mux_test_path = '../ProcessedData/Testing/Mux_test'\n",
    "kdef_test_path = '../ProcessedData/Testing/KDEF_test'\n",
    "master_path = '../ProcessedData/combined/'\n",
    "\n",
    "fer_test_dataset = torchvision.datasets.DatasetFolder(fer_test_path, loader=torch.load, extensions=('.tensor'))\n",
    "fer_test_loader = torch.utils.data.DataLoader(fer_test_dataset, batch_size=batch_size, num_workers=num_workers, shuffle=True)\n",
    "\n",
    "mux_test_dataset = torchvision.datasets.DatasetFolder(mux_test_path, loader=torch.load, extensions=('.tensor'))\n",
    "mux_test_loader = torch.utils.data.DataLoader(mux_test_dataset, batch_size=batch_size, num_workers=num_workers, shuffle=True)\n",
    "\n",
    "kdef_test_dataset = torchvision.datasets.DatasetFolder(kdef_test_path, loader=torch.load, extensions=('.tensor'))\n",
    "kdef_test_loader = torch.utils.data.DataLoader(kdef_test_dataset, batch_size=batch_size, num_workers=num_workers, shuffle=True)\n",
    "\n",
    "test_dataset = torchvision.datasets.DatasetFolder(master_path + 'test', loader=torch.load, extensions=('.tensor'))\n",
    "test_loader = torch.utils.data.DataLoader(test_dataset, batch_size=batch_size, num_workers=num_workers, shuffle=True)"
   ]
  },
  {
   "cell_type": "markdown",
   "metadata": {},
   "source": [
    "#### Load Checkpoint"
   ]
  },
  {
   "cell_type": "code",
   "execution_count": 5,
   "metadata": {},
   "outputs": [],
   "source": [
    "# Model definition\n",
    "resnet50 = models.resnet50(pretrained=True).cuda()\n",
    "num_ftrs = resnet50.fc.in_features\n",
    "resnet50.fc = nn.Sequential(\n",
    "    nn.Linear(num_ftrs, 1000),\n",
    "    nn.ReLU(True),\n",
    "    nn.Dropout(0.4),\n",
    "    nn.Linear(1000, 50),\n",
    "    nn.ReLU(True),\n",
    "    nn.Dropout(0.4),\n",
    "    nn.Linear(50, 6)\n",
    ")\n",
    "resnet50.fc = resnet50.fc.cuda()\n",
    "resnet50.cuda()\n",
    "\n",
    "# Load\n",
    "# Other Checkpoint names:\n",
    "\n",
    "checkpoint_path1 = '../torch_checkpoints/model_Resnet50-Pretrained-12000-Dropout_bs32_lr0_0001_epoch5.pt'\n",
    "checkpoint_path2 = '../torch_checkpoints/model_Resnet50-Pretrained-12000-Dropout_bs128_lr0_001_epoch5.pt'\n",
    "checkpoint_path3 = '../torch_checkpoints/model_Resnet50-Pretrained-12000-Dropout_bs128_lr0_001_epoch5-58-FER.pt'"
   ]
  },
  {
   "cell_type": "markdown",
   "metadata": {},
   "source": [
    "#### Get accuracy on CK"
   ]
  },
  {
   "cell_type": "code",
   "execution_count": 6,
   "metadata": {
    "scrolled": true
   },
   "outputs": [
    {
     "name": "stdout",
     "output_type": "stream",
     "text": [
      "Model 1： \n",
      "CK: 0.664\n",
      "FER: 0.5716440422322775\n",
      "Mux: 0.7876543209876543\n",
      "KDEF: 0.753968253968254\n",
      "Combined: 0.6373426754898145\n",
      "Model 2： \n",
      "CK: 0.6986666666666667\n",
      "FER: 0.573340874811463\n",
      "Mux: 0.7945679012345679\n",
      "KDEF: 0.7724867724867724\n",
      "Combined: 0.6412352406902816\n",
      "Model 3： \n",
      "CK: 0.6706666666666666\n",
      "FER: 0.5865384615384616\n",
      "Mux: 0.7866666666666666\n",
      "KDEF: 0.7857142857142857\n",
      "Combined: 0.6488906189178669\n"
     ]
    }
   ],
   "source": [
    "# Model 1\n",
    "print(\"Model 1： \")\n",
    "resnet50.load_state_dict(torch.load(checkpoint_path1))\n",
    "print('CK: ' + str(train.get_accuracy(resnet50, ck_loader)))\n",
    "print('FER: ' + str(train.get_accuracy(resnet50, fer_test_loader)))\n",
    "print('Mux: ' + str(train.get_accuracy(resnet50, mux_test_loader)))\n",
    "print('KDEF: ' + str(train.get_accuracy(resnet50, kdef_test_loader)))\n",
    "print('Combined: ' + str(train.get_accuracy(resnet50, test_loader)))\n",
    "\n",
    "# Model 2\n",
    "print(\"Model 2： \")\n",
    "resnet50.load_state_dict(torch.load(checkpoint_path2))\n",
    "print('CK: ' + str(train.get_accuracy(resnet50, ck_loader)))\n",
    "print('FER: ' + str(train.get_accuracy(resnet50, fer_test_loader)))\n",
    "print('Mux: ' + str(train.get_accuracy(resnet50, mux_test_loader)))\n",
    "print('KDEF: ' + str(train.get_accuracy(resnet50, kdef_test_loader)))\n",
    "print('Combined: ' + str(train.get_accuracy(resnet50, test_loader)))\n",
    "\n",
    "# Model 1\n",
    "print(\"Model 3： \")\n",
    "resnet50.load_state_dict(torch.load(checkpoint_path3))\n",
    "print('CK: ' + str(train.get_accuracy(resnet50, ck_loader)))\n",
    "print('FER: ' + str(train.get_accuracy(resnet50, fer_test_loader)))\n",
    "print('Mux: ' + str(train.get_accuracy(resnet50, mux_test_loader)))\n",
    "print('KDEF: ' + str(train.get_accuracy(resnet50, kdef_test_loader)))\n",
    "print('Combined: ' + str(train.get_accuracy(resnet50, test_loader)))"
   ]
  },
  {
   "cell_type": "markdown",
   "metadata": {},
   "source": [
    "#### Accuracy on Each Class"
   ]
  },
  {
   "cell_type": "code",
   "execution_count": 8,
   "metadata": {},
   "outputs": [
    {
     "name": "stdout",
     "output_type": "stream",
     "text": [
      "[0.498 0.386 0.789 0.503 0.704 0.717]\n",
      "[0.471 0.367 0.773 0.489 0.73  0.592]\n",
      "[0.421 0.    0.804 0.561 0.357 0.822]\n",
      "[0.857 0.651 0.937 0.667 0.762 0.841]\n",
      "[0.111 0.107 1.    0.512 0.924 0.   ]\n"
     ]
    }
   ],
   "source": [
    "print(train.get_class_accuracy(resnet50, test_loader))\n",
    "print(train.get_class_accuracy(resnet50, fer_test_loader))\n",
    "print(train.get_class_accuracy(resnet50, mux_test_loader))\n",
    "print(train.get_class_accuracy(resnet50, kdef_test_loader))\n",
    "print(train.get_class_accuracy(resnet50, ck_loader))"
   ]
  },
  {
   "cell_type": "markdown",
   "metadata": {},
   "source": [
    "#### Confusion Matrix"
   ]
  },
  {
   "cell_type": "code",
   "execution_count": 9,
   "metadata": {},
   "outputs": [
    {
     "name": "stdout",
     "output_type": "stream",
     "text": [
      "          Anger  Fear  Happy  Sad  Surprise  Neutral\n",
      "Anger       350    69     40  131        23      130\n",
      "Fear         88   282     29  172        78      120\n",
      "Happy        56    26   1043   71        47      106\n",
      "Sad          74   115     35  446         9      233\n",
      "Surprise     16    68     27   14       439       37\n",
      "Neutral      49    60     66  180        24      551\n"
     ]
    }
   ],
   "source": [
    "# FER\n",
    "print(train.compute_confusion_matrix(resnet50, fer_test_loader))"
   ]
  },
  {
   "cell_type": "code",
   "execution_count": 10,
   "metadata": {},
   "outputs": [
    {
     "name": "stdout",
     "output_type": "stream",
     "text": [
      "          Anger  Fear  Happy  Sad  Surprise  Neutral\n",
      "Anger        16     1      5    2         3       11\n",
      "Fear          1     0      0    1         1        1\n",
      "Happy         6     3    687   19        11      129\n",
      "Sad           0     2      2   23         0       14\n",
      "Surprise      3     3      4    1        20       25\n",
      "Neutral      33    13     49   68        21      847\n"
     ]
    }
   ],
   "source": [
    "# Mux\n",
    "print(train.compute_confusion_matrix(resnet50, mux_test_loader))"
   ]
  },
  {
   "cell_type": "code",
   "execution_count": 11,
   "metadata": {},
   "outputs": [
    {
     "name": "stdout",
     "output_type": "stream",
     "text": [
      "          Anger  Fear  Happy  Sad  Surprise  Neutral\n",
      "Anger        54     0      0    5         0        4\n",
      "Fear          1    41      3    6         6        6\n",
      "Happy         0     1     59    0         0        3\n",
      "Sad          13     1      0   42         0        7\n",
      "Surprise      0    14      0    0        48        1\n",
      "Neutral       3     1      0    6         0       53\n"
     ]
    }
   ],
   "source": [
    "# KDEF\n",
    "print(train.compute_confusion_matrix(resnet50, kdef_test_loader))"
   ]
  },
  {
   "cell_type": "code",
   "execution_count": 12,
   "metadata": {},
   "outputs": [
    {
     "name": "stdout",
     "output_type": "stream",
     "text": [
      "          Anger  Fear  Happy  Sad  Surprise  Neutral\n",
      "Anger       420    70     45  138        26      145\n",
      "Fear         90   323     32  179        85      127\n",
      "Happy        62    30   1789   90        58      238\n",
      "Sad          87   118     37  511         9      254\n",
      "Surprise     19    85     31   15       507       63\n",
      "Neutral      85    74    115  254        45     1451\n"
     ]
    }
   ],
   "source": [
    "# Combined\n",
    "print(train.compute_confusion_matrix(resnet50, test_loader))"
   ]
  },
  {
   "cell_type": "code",
   "execution_count": 13,
   "metadata": {},
   "outputs": [
    {
     "name": "stdout",
     "output_type": "stream",
     "text": [
      "          Anger  Fear  Happy  Sad  Surprise  Neutral\n",
      "Anger        15     8      0   61         3       48\n",
      "Fear          0     8     28   11        10       18\n",
      "Happy         0     0    207    0         0        0\n",
      "Sad          10     3      0   43         0       28\n",
      "Surprise      0     3      2    1       230       13\n",
      "Neutral       0     0      0    0         0        0\n"
     ]
    }
   ],
   "source": [
    "# CK\n",
    "print(train.compute_confusion_matrix(resnet50, ck_loader))"
   ]
  },
  {
   "cell_type": "code",
   "execution_count": null,
   "metadata": {},
   "outputs": [],
   "source": []
  }
 ],
 "metadata": {
  "kernelspec": {
   "display_name": "Python 3",
   "language": "python",
   "name": "python3"
  },
  "language_info": {
   "codemirror_mode": {
    "name": "ipython",
    "version": 3
   },
   "file_extension": ".py",
   "mimetype": "text/x-python",
   "name": "python",
   "nbconvert_exporter": "python",
   "pygments_lexer": "ipython3",
   "version": "3.8.6"
  }
 },
 "nbformat": 4,
 "nbformat_minor": 4
}
