{
 "cells": [
  {
   "cell_type": "markdown",
   "metadata": {},
   "source": [
    " # Augments and saves CK+ Data as .csv"
   ]
  },
  {
   "cell_type": "markdown",
   "metadata": {},
   "source": [
    "#### Running this notebook will:\n",
    "- Create a dataframe with emotion labels and img paths of the CK+ dataset\n",
    "- Save the dataframe as a .csv"
   ]
  },
  {
   "cell_type": "markdown",
   "metadata": {},
   "source": [
    "#### NOTE: CK+ does *not* contain any images for the 'neutral' class. If you want to include CK+ as part of our dataset,you need to append the .csv to the combined .csv and preprocess it with the other data (i.e. mux,fer)"
   ]
  },
  {
   "cell_type": "markdown",
   "metadata": {},
   "source": [
    "#### Dataset download instructions - do this before running this notebook\n",
    "\n",
    "- CK+ dataset from Github: https://github.com/WuJie1010/Facial-Expression-Recognition.Pytorch\n",
    "Download the 'CK+48' folder, and put it under '../FER_Resnet'"
   ]
  },
  {
   "cell_type": "code",
   "execution_count": 1,
   "metadata": {},
   "outputs": [],
   "source": [
    "# imports\n",
    "\n",
    "import torch\n",
    "import torch.nn as nn\n",
    "import torch.nn.functional as F\n",
    "import torchvision\n",
    "import os, os.path\n",
    "import numpy as np\n",
    "import cv2\n",
    "import matplotlib.pyplot as plt\n",
    "import pandas as pd"
   ]
  },
  {
   "cell_type": "markdown",
   "metadata": {},
   "source": [
    "#### Create dataframe of CK+ images. Columns are emotion labels and img paths"
   ]
  },
  {
   "cell_type": "code",
   "execution_count": 2,
   "metadata": {},
   "outputs": [],
   "source": [
    "def get_label_CK(folder):\n",
    "    emos = {\n",
    "        \"anger\": \"0\", # anger\n",
    "        \"fear\": \"2\", # fear\n",
    "        \"happy\": \"3\" , # happy\n",
    "        \"sadness\": \"4\" , # sad\n",
    "        \"surprise\": \"5\"  # surprise\n",
    "            }\n",
    "    return emos[str(folder)]"
   ]
  },
  {
   "cell_type": "code",
   "execution_count": 5,
   "metadata": {},
   "outputs": [],
   "source": [
    "def get_CK_df():\n",
    "    \"\"\"\n",
    "    Loads all images into a dataframe consisting of emotion label and the image path.\n",
    "\n",
    "    \"\"\"\n",
    "    \n",
    "    CK_df = pd.DataFrame(columns=[\"emotion\", \"img_path\"])\n",
    "    \n",
    "    # Path to KDEF folder\n",
    "    CK_path = '../datasets/CK+48/'\n",
    "        \n",
    "    # initialize df row counter\n",
    "    row = 0\n",
    "        \n",
    "    # Iterate through CK folder and append jpgs and their labels to the CK dataframe\n",
    "    for folder in os.listdir(CK_path):\n",
    "        path = CK_path + str(folder)\n",
    "        \n",
    "        for filename in os.listdir(path):\n",
    "            if folder!='contempt' and folder!='disgust':\n",
    "                CK_df.loc[row] = [get_label_CK(folder), path + '/' + filename]  \n",
    "                row += 1\n",
    "                    \n",
    "    return CK_df\n",
    "                "
   ]
  },
  {
   "cell_type": "code",
   "execution_count": 7,
   "metadata": {},
   "outputs": [
    {
     "data": {
      "text/plain": [
       "5    249\n",
       "3    207\n",
       "0    135\n",
       "4     84\n",
       "2     75\n",
       "Name: emotion, dtype: int64"
      ]
     },
     "execution_count": 7,
     "metadata": {},
     "output_type": "execute_result"
    }
   ],
   "source": [
    "CK_df = get_CK_df()\n",
    "CK_df['emotion'].value_counts()\n",
    "# Save CK emotion labels + paths to a .csv\n",
    "# CK_df.to_csv('./CK_df.csv',index=False)"
   ]
  },
  {
   "cell_type": "code",
   "execution_count": null,
   "metadata": {},
   "outputs": [],
   "source": []
  }
 ],
 "metadata": {
  "kernelspec": {
   "display_name": "Python 3",
   "language": "python",
   "name": "python3"
  },
  "language_info": {
   "codemirror_mode": {
    "name": "ipython",
    "version": 3
   },
   "file_extension": ".py",
   "mimetype": "text/x-python",
   "name": "python",
   "nbconvert_exporter": "python",
   "pygments_lexer": "ipython3",
   "version": "3.8.6"
  }
 },
 "nbformat": 4,
 "nbformat_minor": 4
}
